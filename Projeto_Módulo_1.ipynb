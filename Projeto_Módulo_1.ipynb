{
  "nbformat": 4,
  "nbformat_minor": 0,
  "metadata": {
    "colab": {
      "provenance": [],
      "authorship_tag": "ABX9TyN/Bf7HaFWHZrYXJGL1MVfU",
      "include_colab_link": true
    },
    "kernelspec": {
      "name": "python3",
      "display_name": "Python 3"
    },
    "language_info": {
      "name": "python"
    }
  },
  "cells": [
    {
      "cell_type": "markdown",
      "metadata": {
        "id": "view-in-github",
        "colab_type": "text"
      },
      "source": [
        "<a href=\"https://colab.research.google.com/github/zezinjr/Iniciandojornada/blob/main/Projeto_M%C3%B3dulo_1.ipynb\" target=\"_parent\"><img src=\"https://colab.research.google.com/assets/colab-badge.svg\" alt=\"Open In Colab\"/></a>"
      ]
    },
    {
      "cell_type": "code",
      "execution_count": 1,
      "metadata": {
        "colab": {
          "base_uri": "https://localhost:8080/"
        },
        "id": "i-nfXBIYnPOG",
        "outputId": "c255dc91-e9d1-4acf-a5d4-e3a31e393bb5"
      },
      "outputs": [
        {
          "output_type": "stream",
          "name": "stdout",
          "text": [
            "Jogador 1 - Ataque: 6 frames, Recuperação: 8 frames\n",
            "Jogador 2 - Ataque: 5 frames, Recuperação: 7 frames\n",
            "Jogador 2 tem uma vantagem de 2 frames e pode contra-atacar!\n"
          ]
        }
      ],
      "source": [
        "class Personagem:\n",
        "    def __init__(self, nome, ataque_frames, recuperacao_frames, defesa_frames):\n",
        "        self.nome = nome\n",
        "        self.ataque_frames = ataque_frames\n",
        "        self.recuperacao_frames = recuperacao_frames\n",
        "        self.defesa_frames = defesa_frames\n",
        "\n",
        "    def tempo_total_ataque(self):\n",
        "        return self.ataque_frames + self.recuperacao_frames\n",
        "\n",
        "    def vantagem_de_frame(self, outro_personagem):\n",
        "        \"\"\"\n",
        "        Calcula a vantagem de frame entre dois personagens.\n",
        "        Se o personagem conseguir agir mais rápido, ele tem vantagem de frames.\n",
        "        \"\"\"\n",
        "        # Calculando a vantagem considerando o tempo total de ação do oponente\n",
        "        return outro_personagem.tempo_total_ataque() - self.tempo_total_ataque()\n",
        "\n",
        "# Criando dois personagens para simulação\n",
        "personagem1 = Personagem(nome=\"Jogador 1\", ataque_frames=6, recuperacao_frames=8, defesa_frames=3)\n",
        "personagem2 = Personagem(nome=\"Jogador 2\", ataque_frames=5, recuperacao_frames=7, defesa_frames=4)\n",
        "\n",
        "# Mostrando os tempos de ação para cada personagem\n",
        "print(f\"{personagem1.nome} - Ataque: {personagem1.ataque_frames} frames, Recuperação: {personagem1.recuperacao_frames} frames\")\n",
        "print(f\"{personagem2.nome} - Ataque: {personagem2.ataque_frames} frames, Recuperação: {personagem2.recuperacao_frames} frames\")\n",
        "\n",
        "# Calculando a vantagem de frame entre os dois personagens\n",
        "vantagem = personagem1.vantagem_de_frame(personagem2)\n",
        "\n",
        "if vantagem > 0:\n",
        "    print(f\"{personagem1.nome} tem uma vantagem de {vantagem} frames e pode contra-atacar!\")\n",
        "elif vantagem < 0:\n",
        "    print(f\"{personagem2.nome} tem uma vantagem de {-vantagem} frames e pode contra-atacar!\")\n",
        "else:\n",
        "    print(\"Os dois personagens estão equilibrados em termos de frames.\")\n"
      ]
    }
  ]
}