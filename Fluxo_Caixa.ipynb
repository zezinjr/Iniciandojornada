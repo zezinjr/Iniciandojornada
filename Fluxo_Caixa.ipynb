{
  "nbformat": 4,
  "nbformat_minor": 0,
  "metadata": {
    "colab": {
      "provenance": []
    },
    "kernelspec": {
      "name": "python3",
      "display_name": "Python 3"
    },
    "language_info": {
      "name": "python"
    }
  },
  "cells": [
    {
      "cell_type": "code",
      "source": [
        "\n",
        "fluxo_caixa = []\n",
        "\n",
        "print(\"--------------\")\n",
        "print(\"Fluxo de Caixa\")\n",
        "print(\"--------------\")\n",
        "print(\"1 - Adicionar Receita\")\n",
        "print(\"2 - Adicionar Despesa\")\n",
        "print(\"3 - Encerrar\")\n",
        "\n",
        "def adicionar_transacao(tipo):\n",
        "    nome = input(\"Digite o nome da transação: \")\n",
        "    valor = float(input(\"Digite o valor da transação: \"))\n",
        "\n",
        "    if tipo == \"receita\":\n",
        "        valor = +valor\n",
        "    if tipo == \"despesa\":\n",
        "        valor = -valor\n",
        "    fluxo_caixa.append({\"nome\": nome, \"valor\": valor})\n",
        "\n",
        "while True:\n",
        "    opcao = int(input(\"Escolha uma opção: \"))\n",
        "    if opcao == 1:\n",
        "        adicionar_transacao(\"receita\")\n",
        "    elif opcao == 2:\n",
        "        adicionar_transacao(\"despesa\")\n",
        "    elif opcao == 3:\n",
        "        break\n",
        "\n",
        "total = 0\n",
        "for fc in fluxo_caixa:\n",
        "    print(fc[\"nome\"], fc[\"valor\"])\n",
        "    total += fc[\"valor\"]\n",
        "\n",
        "print(\"Total: \", total)"
      ],
      "metadata": {
        "colab": {
          "base_uri": "https://localhost:8080/"
        },
        "id": "wIJByeeZgYQh",
        "outputId": "2b72e793-879b-4278-829d-8dee719cad9f"
      },
      "execution_count": 28,
      "outputs": [
        {
          "output_type": "stream",
          "name": "stdout",
          "text": [
            "--------------\n",
            "Fluxo de Caixa\n",
            "--------------\n",
            "1 - Adicionar Receita\n",
            "2 - Adicionar Despesa\n",
            "3 - Encerrar\n",
            "Escolha uma opção: 1\n",
            "Digite o nome da transação: Lucro\n",
            "Digite o valor da transação: 3000\n",
            "Escolha uma opção: 2\n",
            "Digite o nome da transação: Conta de luz\n",
            "Digite o valor da transação: 1200\n",
            "Escolha uma opção: 3\n",
            "Lucro 3000.0\n",
            "Conta de luz -1200.0\n",
            "Total:  1800.0\n"
          ]
        }
      ]
    }
  ]
}
